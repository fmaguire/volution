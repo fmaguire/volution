{
 "cells": [
  {
   "cell_type": "code",
   "execution_count": 26,
   "metadata": {
    "collapsed": true
   },
   "outputs": [],
   "source": [
    "%matplotlib inline\n",
    "from tqdm import tqdm\n",
    "import matplotlib.pyplot as plt\n",
    "import numpy as np\n",
    "import tensorflow as tf\n",
    "from subprocess import Popen, PIPE, STDOUT\n",
    "\n",
    "RANDOM_STATE = 42"
   ]
  },
  {
   "cell_type": "markdown",
   "metadata": {},
   "source": [
    "## Mutator\n",
    "\n",
    "Transmembrane domain mutator using the trained LSTM classifier.\n",
    "\n",
    "Essentially, we have a trained classifier (see LSTM_TM_Classifier notebook) \n",
    "that outputs a 3-vector of softmax probs for\n",
    "a given TM sequence belonging to a certain domain.\n",
    "\n",
    "So the idea is to take a TM sequence belonging to one domain and mutate it using this classifier to make it \"look like\" a TM sequence from another domain.\n",
    "\n",
    "The constraint being it still has to be an actual TM sequence - is it better to \n",
    "reject proposals that don't fit constraints or weight them to 0 in output probs i.e. if not helix, probs * 0, else 1?"
   ]
  },
  {
   "cell_type": "code",
   "execution_count": 24,
   "metadata": {
    "collapsed": false
   },
   "outputs": [
    {
     "name": "stdout",
     "output_type": "stream",
     "text": [
      "TRVFGTVGGVVCLGGMVFAPYAS\r\n",
      "TRSIPSLVAGVGVGLLYLYSADS\r\n",
      "QNYFTNAYYFGTLASTTTLMAPIPGKAF\r\n",
      "AHAFIMIFFMVMPIMIGGFGNWLVPLML\r\n",
      "MNIITSIFNVAGLISSIGALHLSFISLD\r\n",
      "DKMPLFVWSVLITAILLLLSLPVLAGAI\r\n",
      "LKPFFYKIAAAVTGGGGILYLAYRP\r\n",
      "SSILIVLGLNSVIAFVYVLLLLIFAPLS\r\n",
      "RTVVGLSWAAWGSAAVLVLILIGLSVHL\r\n",
      "IKLYTLSVSCISSGLLVVTYSLGYINNM\r\n"
     ]
    }
   ],
   "source": [
    "\n",
    "\n",
    "!head ../tm_prediction/full_data/tmhmm/tm_seqs/eukaryote_data.txt"
   ]
  },
  {
   "cell_type": "code",
   "execution_count": 69,
   "metadata": {
    "collapsed": false
   },
   "outputs": [],
   "source": [
    "def decode_seq(enc_seq, encoder):\n",
    "    \"\"\"\n",
    "    decodes/encodes sequences\n",
    "    \"\"\"\n",
    "    pass\n",
    "\n",
    "def check_helix(seq, debug=False):\n",
    "    \"\"\"\n",
    "    Checks if a sequence has a TM helix and returns probs\n",
    "    \"\"\"\n",
    "    tmhmm=\"../tm_prediction/tools/tmhmm-2.0c/bin/tmhmm\"\n",
    "    \n",
    "    fasta_in=\">1\\n{}\".format(seq).encode('utf-8')\n",
    "    \n",
    "    p = Popen([tmhmm], stdout=PIPE, stdin=PIPE, stderr=STDOUT)   \n",
    "    \n",
    "    tmhmm_stdout = p.communicate(input=fasta_in)[0]\n",
    "    \n",
    "    output = tmhmm_stdout.decode()\n",
    "    \n",
    "    if debug:\n",
    "        print(output)\n",
    "    \n",
    "    predhel = int(output.split('\\t')[4].split('=')[-1])\n",
    "    \n",
    "    if predhel > 0:\n",
    "        return True\n",
    "    else:\n",
    "        return False\n"
   ]
  },
  {
   "cell_type": "code",
   "execution_count": 71,
   "metadata": {
    "collapsed": false
   },
   "outputs": [],
   "source": [
    "a = [\"TRVFGTVGGVVCLGGMVFAPYAS\",\n",
    "\"TRSIPSLVAGVGVGLLYLYSADS\",\n",
    "\"QNYFTNAYYFGTLASTTTLMAPIPGKAF\",\n",
    "\"AHAFIMIFFMVMPIMIGGFGNWLVPLML\",\n",
    "\"MNIITSIFNVAGLISSIGALHLSFISLD\",\n",
    "\"DKMPLFVWSVLITAILLLLSLPVLAGAI\",\n",
    "\"LKPFFYKIAAAVTGGGGILYLAYRP\",\n",
    "\"SSILIVLGLNSVIAFVYVLLLLIFAPLS\",\n",
    "\"RTVVGLSWAAWGSAAVLVLILIGLSVHL\",\n",
    "\"IKLYTLSVSCISSGLLVVTYSLGYINNM\"]\n",
    "\n",
    "x = a[0]"
   ]
  },
  {
   "cell_type": "code",
   "execution_count": 74,
   "metadata": {
    "collapsed": false
   },
   "outputs": [
    {
     "ename": "ValueError",
     "evalue": "No variables to save",
     "output_type": "error",
     "traceback": [
      "\u001b[0;31m---------------------------------------------------------------------------\u001b[0m",
      "\u001b[0;31mValueError\u001b[0m                                Traceback (most recent call last)",
      "\u001b[0;32m<ipython-input-74-f67c6568cf2d>\u001b[0m in \u001b[0;36m<module>\u001b[0;34m()\u001b[0m\n\u001b[1;32m      1\u001b[0m \u001b[0mmodel_path\u001b[0m \u001b[0;34m=\u001b[0m \u001b[0;34m\"./model.ckpt\"\u001b[0m\u001b[0;34m\u001b[0m\u001b[0m\n\u001b[0;32m----> 2\u001b[0;31m \u001b[0msaver\u001b[0m \u001b[0;34m=\u001b[0m \u001b[0mtf\u001b[0m\u001b[0;34m.\u001b[0m\u001b[0mtrain\u001b[0m\u001b[0;34m.\u001b[0m\u001b[0mSaver\u001b[0m\u001b[0;34m(\u001b[0m\u001b[0;34m)\u001b[0m\u001b[0;34m\u001b[0m\u001b[0m\n\u001b[0m\u001b[1;32m      3\u001b[0m \u001b[0;32mwith\u001b[0m \u001b[0mtf\u001b[0m\u001b[0;34m.\u001b[0m\u001b[0mSession\u001b[0m\u001b[0;34m(\u001b[0m\u001b[0;34m)\u001b[0m \u001b[0;32mas\u001b[0m \u001b[0msess\u001b[0m\u001b[0;34m:\u001b[0m\u001b[0;34m\u001b[0m\u001b[0m\n\u001b[1;32m      4\u001b[0m     \u001b[0msaver\u001b[0m\u001b[0;34m.\u001b[0m\u001b[0mrestore\u001b[0m\u001b[0;34m(\u001b[0m\u001b[0msess\u001b[0m\u001b[0;34m,\u001b[0m \u001b[0mmodel_path\u001b[0m\u001b[0;34m)\u001b[0m\u001b[0;34m\u001b[0m\u001b[0m\n",
      "\u001b[0;32m/home/fin/anaconda3/envs/tensorflow/lib/python3.4/site-packages/tensorflow/python/training/saver.py\u001b[0m in \u001b[0;36m__init__\u001b[0;34m(self, var_list, reshape, sharded, max_to_keep, keep_checkpoint_every_n_hours, name, restore_sequentially, saver_def, builder)\u001b[0m\n\u001b[1;32m    835\u001b[0m         \u001b[0mvar_list\u001b[0m \u001b[0;34m=\u001b[0m \u001b[0mvariables\u001b[0m\u001b[0;34m.\u001b[0m\u001b[0mall_variables\u001b[0m\u001b[0;34m(\u001b[0m\u001b[0;34m)\u001b[0m\u001b[0;34m\u001b[0m\u001b[0m\n\u001b[1;32m    836\u001b[0m       \u001b[0;32mif\u001b[0m \u001b[0;32mnot\u001b[0m \u001b[0mvar_list\u001b[0m\u001b[0;34m:\u001b[0m\u001b[0;34m\u001b[0m\u001b[0m\n\u001b[0;32m--> 837\u001b[0;31m         \u001b[0;32mraise\u001b[0m \u001b[0mValueError\u001b[0m\u001b[0;34m(\u001b[0m\u001b[0;34m\"No variables to save\"\u001b[0m\u001b[0;34m)\u001b[0m\u001b[0;34m\u001b[0m\u001b[0m\n\u001b[0m\u001b[1;32m    838\u001b[0m       saver_def = builder.build(\n\u001b[1;32m    839\u001b[0m           \u001b[0mvar_list\u001b[0m\u001b[0;34m,\u001b[0m\u001b[0;34m\u001b[0m\u001b[0m\n",
      "\u001b[0;31mValueError\u001b[0m: No variables to save"
     ]
    }
   ],
   "source": [
    "model_path = \"./model.ckpt\"\n",
    "saver = tf.train.Saver()\n",
    "with tf.Session() as sess:\n",
    "    saver.restore(sess, model_path) "
   ]
  },
  {
   "cell_type": "code",
   "execution_count": 75,
   "metadata": {
    "collapsed": false
   },
   "outputs": [
    {
     "name": "stdout",
     "output_type": "stream",
     "text": [
      "/storage/fin/postdoc/tm_evolution/LSTM\r\n"
     ]
    }
   ],
   "source": [
    "!pwd"
   ]
  },
  {
   "cell_type": "code",
   "execution_count": 82,
   "metadata": {
    "collapsed": false
   },
   "outputs": [
    {
     "data": {
      "text/plain": [
       "<matplotlib.collections.PathCollection at 0x7f6d6c676320>"
      ]
     },
     "execution_count": 82,
     "metadata": {},
     "output_type": "execute_result"
    },
    {
     "data": {
      "image/png": "[encoded data removed]",
      "text/plain": [
       "<matplotlib.figure.Figure at 0x7f6d92b4ffd0>"
      ]
     },
     "metadata": {},
     "output_type": "display_data"
    }
   ],
   "source": [
    "x = []\n",
    "y = []\n",
    "with open(\"/storage/fin/postdoc/bayehem/scores\") as fh:\n",
    "    for line in fh.readlines():\n",
    "        line = line.strip()\n",
    "        line = line.split(\",\")\n",
    "        x.append(int(line[0]))\n",
    "        y.append(-1 * float(line[1]))\n",
    "        \n",
    "plt.scatter(x,y)"
   ]
  },
  {
   "cell_type": "code",
   "execution_count": null,
   "metadata": {
    "collapsed": true
   },
   "outputs": [],
   "source": []
  }
 ],
 "metadata": {
  "kernelspec": {
   "display_name": "Python 3",
   "language": "python",
   "name": "python3"
  },
  "language_info": {
   "codemirror_mode": {
    "name": "ipython",
    "version": 3
   },
   "file_extension": ".py",
   "mimetype": "text/x-python",
   "name": "python",
   "nbconvert_exporter": "python",
   "pygments_lexer": "ipython3",
   "version": "3.4.5"
  }
 },
 "nbformat": 4,
 "nbformat_minor": 0
}
