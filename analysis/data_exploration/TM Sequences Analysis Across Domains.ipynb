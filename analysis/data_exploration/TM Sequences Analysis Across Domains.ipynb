{
 "cells": [
  {
   "cell_type": "code",
   "execution_count": 5,
   "metadata": {
    "collapsed": true
   },
   "outputs": [],
   "source": [
    "%matplotlib inline\n",
    "import seaborn as sns\n",
    "import numpy as np\n",
    "import pandas as pd\n",
    "import matplotlib.pyplot as plt\n",
    "\n",
    "import os, sys, glob"
   ]
  },
  {
   "cell_type": "markdown",
   "metadata": {},
   "source": [
    "# TM Sequence analysis\n",
    "\n",
    "A workbook to analyse the TM sequences of TM annotated Swissprot proteins from the 3 domains.  \n",
    "\n",
    "All TM domains were annotated again using TMHMM and the sequences +/- 3 residues and orientations pulled out\n",
    "from TMHMM output using a trivial script"
   ]
  },
  {
   "cell_type": "code",
   "execution_count": 2,
   "metadata": {
    "collapsed": false
   },
   "outputs": [
    {
     "name": "stdout",
     "output_type": "stream",
     "text": [
      "\u001b[0m\u001b[00marchaea_swissprot_tm_clustered_clean_ii_tm_seqs.fasta\u001b[0m\r\n",
      "\u001b[00marchaea_swissprot_tm_clustered_clean_io_tm_seqs.fasta\u001b[0m\r\n",
      "\u001b[00marchaea_swissprot_tm_clustered_clean_oi_tm_seqs.fasta\u001b[0m\r\n",
      "\u001b[00marchaea_swissprot_tm_clustered_clean_oo_tm_seqs.fasta\u001b[0m\r\n",
      "\u001b[00mbacteria_swissprot_tm_clustered_clean_ii_tm_seqs.fasta\u001b[0m\r\n",
      "\u001b[00mbacteria_swissprot_tm_clustered_clean_io_tm_seqs.fasta\u001b[0m\r\n",
      "\u001b[00mbacteria_swissprot_tm_clustered_clean_oi_tm_seqs.fasta\u001b[0m\r\n",
      "\u001b[00mbacteria_swissprot_tm_clustered_clean_oo_tm_seqs.fasta\u001b[0m\r\n",
      "\u001b[00meukaryote_swissprot_tm_clustered_clean_ii_tm_seqs.fasta\u001b[0m\r\n",
      "\u001b[00meukaryote_swissprot_tm_clustered_clean_io_tm_seqs.fasta\u001b[0m\r\n",
      "\u001b[00meukaryote_swissprot_tm_clustered_clean_oi_tm_seqs.fasta\u001b[0m\r\n",
      "\u001b[00meukaryote_swissprot_tm_clustered_clean_oo_tm_seqs.fasta\u001b[0m\r\n",
      "\u001b[32mget_tm_seqs.py\u001b[0m\r\n",
      "\u001b[00mTM Sequences Analysis Across Domains.ipynb\u001b[0m\r\n"
     ]
    }
   ],
   "source": [
    "ls "
   ]
  },
  {
   "cell_type": "code",
   "execution_count": 4,
   "metadata": {
    "collapsed": false
   },
   "outputs": [],
   "source": [
    "def get_seqs_only(filename):\n",
    "    \"\"\"\n",
    "    Func to read file and strip out accesions data\n",
    "    returns a list of seqs\n",
    "    \"\"\"\n",
    "    \n",
    "    seqs = []\n",
    "    with open(filename, 'r') as fh:\n",
    "        for line in fh.readlines():\n",
    "            if not line.startswith(\">\"):\n",
    "                seqs.append(line.strip())\n",
    "    return seqs"
   ]
  },
  {
   "cell_type": "code",
   "execution_count": 11,
   "metadata": {
    "collapsed": false
   },
   "outputs": [],
   "source": [
    "seqs = {}\n",
    "for fn in sorted(glob.glob(\"*.fasta\")):\n",
    "    name = fn.split('_')\n",
    "    name = name[0] + '_' + name[-3]\n",
    "    seqs.update({name: get_seqs_only(fn)})"
   ]
  },
  {
   "cell_type": "code",
   "execution_count": 13,
   "metadata": {
    "collapsed": false
   },
   "outputs": [
    {
     "data": {
      "text/plain": [
       "'MISSYKYNPKLYFLSTFVVTYILWFTGAYLSFSSTYSGIYMLIMLPGLMAPFIISTILIAKSKNNELKKDFINRLFNLKLINLKTIPVVFLLMPAVILLSILLSIPFGGSISQFQFSGGFSFSTDFVPVLFLLLLAATFEELGWRGYAFDSLQSRYSLFKASILFGIFWSLWHFPLIFVNNSYQYEIFNQSIWYGLNFFLSILPMGIIITWMCLKNRKSIILAIIFHFLINLNQELLAITQDTKIIETGVLFLVAAAIILYDK'"
      ]
     },
     "execution_count": 13,
     "metadata": {},
     "output_type": "execute_result"
    }
   ],
   "source": [
    "seqs['archaea_ii'][]"
   ]
  },
  {
   "cell_type": "code",
   "execution_count": null,
   "metadata": {
    "collapsed": true
   },
   "outputs": [],
   "source": []
  }
 ],
 "metadata": {
  "kernelspec": {
   "display_name": "Python 3",
   "language": "python",
   "name": "python3"
  },
  "language_info": {
   "codemirror_mode": {
    "name": "ipython",
    "version": 3
   },
   "file_extension": ".py",
   "mimetype": "text/x-python",
   "name": "python",
   "nbconvert_exporter": "python",
   "pygments_lexer": "ipython3",
   "version": "3.4.5"
  }
 },
 "nbformat": 4,
 "nbformat_minor": 0
}
